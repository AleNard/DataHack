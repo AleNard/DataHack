{
 "cells": [
  {
   "cell_type": "code",
   "execution_count": 1106,
   "metadata": {},
   "outputs": [],
   "source": [
    "import calendar\n",
    "import pandas as pd\n",
    "from sklearn.model_selection import train_test_split\n",
    "import matplotlib\n",
    "%matplotlib inline"
   ]
  },
  {
   "cell_type": "code",
   "execution_count": 1107,
   "metadata": {},
   "outputs": [],
   "source": [
    "data = pd.read_csv(\"Data/Initial_Dataset.csv\")"
   ]
  },
  {
   "cell_type": "code",
   "execution_count": 1108,
   "metadata": {},
   "outputs": [
    {
     "data": {
      "text/html": [
       "<div>\n",
       "<style scoped>\n",
       "    .dataframe tbody tr th:only-of-type {\n",
       "        vertical-align: middle;\n",
       "    }\n",
       "\n",
       "    .dataframe tbody tr th {\n",
       "        vertical-align: top;\n",
       "    }\n",
       "\n",
       "    .dataframe thead th {\n",
       "        text-align: right;\n",
       "    }\n",
       "</style>\n",
       "<table border=\"1\" class=\"dataframe\">\n",
       "  <thead>\n",
       "    <tr style=\"text-align: right;\">\n",
       "      <th></th>\n",
       "      <th>Trips</th>\n",
       "      <th>Holiday</th>\n",
       "      <th>PRCP</th>\n",
       "      <th>SNOW</th>\n",
       "      <th>TMAX</th>\n",
       "      <th>TMIN</th>\n",
       "      <th>TAVG</th>\n",
       "      <th>AWND</th>\n",
       "      <th>Month</th>\n",
       "      <th>Weekday</th>\n",
       "    </tr>\n",
       "  </thead>\n",
       "  <tbody>\n",
       "    <tr>\n",
       "      <th>count</th>\n",
       "      <td>709.000000</td>\n",
       "      <td>709.000000</td>\n",
       "      <td>709.000000</td>\n",
       "      <td>709.000000</td>\n",
       "      <td>709.000000</td>\n",
       "      <td>709.000000</td>\n",
       "      <td>709.000000</td>\n",
       "      <td>709.000000</td>\n",
       "      <td>709.000000</td>\n",
       "      <td>709.000000</td>\n",
       "    </tr>\n",
       "    <tr>\n",
       "      <th>mean</th>\n",
       "      <td>8993.145275</td>\n",
       "      <td>0.033850</td>\n",
       "      <td>2.674753</td>\n",
       "      <td>1.052186</td>\n",
       "      <td>20.601128</td>\n",
       "      <td>11.216361</td>\n",
       "      <td>15.665726</td>\n",
       "      <td>3.749788</td>\n",
       "      <td>6.547250</td>\n",
       "      <td>2.991537</td>\n",
       "    </tr>\n",
       "    <tr>\n",
       "      <th>std</th>\n",
       "      <td>3385.366870</td>\n",
       "      <td>0.180972</td>\n",
       "      <td>7.002229</td>\n",
       "      <td>9.654707</td>\n",
       "      <td>10.229481</td>\n",
       "      <td>9.662019</td>\n",
       "      <td>9.724490</td>\n",
       "      <td>1.464655</td>\n",
       "      <td>3.422604</td>\n",
       "      <td>1.986519</td>\n",
       "    </tr>\n",
       "    <tr>\n",
       "      <th>min</th>\n",
       "      <td>501.000000</td>\n",
       "      <td>0.000000</td>\n",
       "      <td>0.000000</td>\n",
       "      <td>0.000000</td>\n",
       "      <td>-6.600000</td>\n",
       "      <td>-14.900000</td>\n",
       "      <td>-10.600000</td>\n",
       "      <td>0.500000</td>\n",
       "      <td>1.000000</td>\n",
       "      <td>0.000000</td>\n",
       "    </tr>\n",
       "    <tr>\n",
       "      <th>25%</th>\n",
       "      <td>6141.000000</td>\n",
       "      <td>0.000000</td>\n",
       "      <td>0.000000</td>\n",
       "      <td>0.000000</td>\n",
       "      <td>12.800000</td>\n",
       "      <td>3.900000</td>\n",
       "      <td>8.100000</td>\n",
       "      <td>2.700000</td>\n",
       "      <td>4.000000</td>\n",
       "      <td>1.000000</td>\n",
       "    </tr>\n",
       "    <tr>\n",
       "      <th>50%</th>\n",
       "      <td>10046.000000</td>\n",
       "      <td>0.000000</td>\n",
       "      <td>0.000000</td>\n",
       "      <td>0.000000</td>\n",
       "      <td>21.100000</td>\n",
       "      <td>11.100000</td>\n",
       "      <td>16.000000</td>\n",
       "      <td>3.500000</td>\n",
       "      <td>7.000000</td>\n",
       "      <td>3.000000</td>\n",
       "    </tr>\n",
       "    <tr>\n",
       "      <th>75%</th>\n",
       "      <td>11764.000000</td>\n",
       "      <td>0.000000</td>\n",
       "      <td>1.000000</td>\n",
       "      <td>0.000000</td>\n",
       "      <td>30.000000</td>\n",
       "      <td>20.000000</td>\n",
       "      <td>24.600000</td>\n",
       "      <td>4.600000</td>\n",
       "      <td>10.000000</td>\n",
       "      <td>5.000000</td>\n",
       "    </tr>\n",
       "    <tr>\n",
       "      <th>max</th>\n",
       "      <td>16726.000000</td>\n",
       "      <td>1.000000</td>\n",
       "      <td>69.900000</td>\n",
       "      <td>165.000000</td>\n",
       "      <td>38.300000</td>\n",
       "      <td>27.800000</td>\n",
       "      <td>32.800000</td>\n",
       "      <td>9.800000</td>\n",
       "      <td>12.000000</td>\n",
       "      <td>6.000000</td>\n",
       "    </tr>\n",
       "  </tbody>\n",
       "</table>\n",
       "</div>"
      ],
      "text/plain": [
       "              Trips     Holiday        PRCP        SNOW        TMAX  \\\n",
       "count    709.000000  709.000000  709.000000  709.000000  709.000000   \n",
       "mean    8993.145275    0.033850    2.674753    1.052186   20.601128   \n",
       "std     3385.366870    0.180972    7.002229    9.654707   10.229481   \n",
       "min      501.000000    0.000000    0.000000    0.000000   -6.600000   \n",
       "25%     6141.000000    0.000000    0.000000    0.000000   12.800000   \n",
       "50%    10046.000000    0.000000    0.000000    0.000000   21.100000   \n",
       "75%    11764.000000    0.000000    1.000000    0.000000   30.000000   \n",
       "max    16726.000000    1.000000   69.900000  165.000000   38.300000   \n",
       "\n",
       "             TMIN        TAVG        AWND       Month     Weekday  \n",
       "count  709.000000  709.000000  709.000000  709.000000  709.000000  \n",
       "mean    11.216361   15.665726    3.749788    6.547250    2.991537  \n",
       "std      9.662019    9.724490    1.464655    3.422604    1.986519  \n",
       "min    -14.900000  -10.600000    0.500000    1.000000    0.000000  \n",
       "25%      3.900000    8.100000    2.700000    4.000000    1.000000  \n",
       "50%     11.100000   16.000000    3.500000    7.000000    3.000000  \n",
       "75%     20.000000   24.600000    4.600000   10.000000    5.000000  \n",
       "max     27.800000   32.800000    9.800000   12.000000    6.000000  "
      ]
     },
     "execution_count": 1108,
     "metadata": {},
     "output_type": "execute_result"
    }
   ],
   "source": [
    "data.describe()"
   ]
  },
  {
   "cell_type": "code",
   "execution_count": 1109,
   "metadata": {},
   "outputs": [
    {
     "data": {
      "text/plain": [
       "Trips      1.000000\n",
       "Holiday   -0.107747\n",
       "PRCP      -0.249116\n",
       "SNOW      -0.227810\n",
       "TMAX       0.810100\n",
       "TMIN       0.747101\n",
       "TAVG       0.788895\n",
       "AWND      -0.187873\n",
       "Month      0.265310\n",
       "Weekday   -0.075101\n",
       "Name: Trips, dtype: float64"
      ]
     },
     "execution_count": 1109,
     "metadata": {},
     "output_type": "execute_result"
    }
   ],
   "source": [
    "data.corr()[\"Trips\"]"
   ]
  },
  {
   "cell_type": "code",
   "execution_count": 1110,
   "metadata": {},
   "outputs": [],
   "source": [
    "data = data.drop(axis=1, labels = [\"Weekday\", \"Month\"])"
   ]
  },
  {
   "cell_type": "code",
   "execution_count": null,
   "metadata": {},
   "outputs": [],
   "source": []
  },
  {
   "cell_type": "code",
   "execution_count": 1111,
   "metadata": {},
   "outputs": [],
   "source": [
    "X = data.drop(\"Trips\",axis=1)\n",
    "Y = data[[\"Trips\"]]\n",
    "X_train, X_test, Y_train, Y_test = train_test_split(X, Y, test_size=0.2, random_state=42)\n",
    "Y_train = Y_train.values.ravel()"
   ]
  },
  {
   "cell_type": "code",
   "execution_count": null,
   "metadata": {},
   "outputs": [],
   "source": []
  },
  {
   "cell_type": "code",
   "execution_count": 1112,
   "metadata": {},
   "outputs": [
    {
     "data": {
      "text/html": [
       "<div>\n",
       "<style scoped>\n",
       "    .dataframe tbody tr th:only-of-type {\n",
       "        vertical-align: middle;\n",
       "    }\n",
       "\n",
       "    .dataframe tbody tr th {\n",
       "        vertical-align: top;\n",
       "    }\n",
       "\n",
       "    .dataframe thead th {\n",
       "        text-align: right;\n",
       "    }\n",
       "</style>\n",
       "<table border=\"1\" class=\"dataframe\">\n",
       "  <thead>\n",
       "    <tr style=\"text-align: right;\">\n",
       "      <th></th>\n",
       "      <th>Holiday</th>\n",
       "      <th>PRCP</th>\n",
       "      <th>SNOW</th>\n",
       "      <th>TMAX</th>\n",
       "      <th>TMIN</th>\n",
       "      <th>TAVG</th>\n",
       "      <th>AWND</th>\n",
       "      <th>Month</th>\n",
       "    </tr>\n",
       "  </thead>\n",
       "  <tbody>\n",
       "    <tr>\n",
       "      <th>310</th>\n",
       "      <td>0</td>\n",
       "      <td>0.0</td>\n",
       "      <td>0.0</td>\n",
       "      <td>21.1</td>\n",
       "      <td>5.6</td>\n",
       "      <td>12.7</td>\n",
       "      <td>1.6</td>\n",
       "      <td>11</td>\n",
       "    </tr>\n",
       "    <tr>\n",
       "      <th>523</th>\n",
       "      <td>0</td>\n",
       "      <td>8.9</td>\n",
       "      <td>0.0</td>\n",
       "      <td>30.6</td>\n",
       "      <td>20.0</td>\n",
       "      <td>24.7</td>\n",
       "      <td>4.5</td>\n",
       "      <td>6</td>\n",
       "    </tr>\n",
       "    <tr>\n",
       "      <th>24</th>\n",
       "      <td>0</td>\n",
       "      <td>5.3</td>\n",
       "      <td>13.0</td>\n",
       "      <td>7.8</td>\n",
       "      <td>-1.6</td>\n",
       "      <td>4.6</td>\n",
       "      <td>5.9</td>\n",
       "      <td>1</td>\n",
       "    </tr>\n",
       "    <tr>\n",
       "      <th>158</th>\n",
       "      <td>0</td>\n",
       "      <td>0.5</td>\n",
       "      <td>0.0</td>\n",
       "      <td>34.4</td>\n",
       "      <td>25.0</td>\n",
       "      <td>29.3</td>\n",
       "      <td>4.3</td>\n",
       "      <td>6</td>\n",
       "    </tr>\n",
       "    <tr>\n",
       "      <th>549</th>\n",
       "      <td>0</td>\n",
       "      <td>0.0</td>\n",
       "      <td>0.0</td>\n",
       "      <td>36.7</td>\n",
       "      <td>26.1</td>\n",
       "      <td>31.2</td>\n",
       "      <td>3.8</td>\n",
       "      <td>7</td>\n",
       "    </tr>\n",
       "  </tbody>\n",
       "</table>\n",
       "</div>"
      ],
      "text/plain": [
       "     Holiday  PRCP  SNOW  TMAX  TMIN  TAVG  AWND  Month\n",
       "310        0   0.0   0.0  21.1   5.6  12.7   1.6     11\n",
       "523        0   8.9   0.0  30.6  20.0  24.7   4.5      6\n",
       "24         0   5.3  13.0   7.8  -1.6   4.6   5.9      1\n",
       "158        0   0.5   0.0  34.4  25.0  29.3   4.3      6\n",
       "549        0   0.0   0.0  36.7  26.1  31.2   3.8      7"
      ]
     },
     "execution_count": 1112,
     "metadata": {},
     "output_type": "execute_result"
    }
   ],
   "source": [
    "X_train.head()"
   ]
  },
  {
   "cell_type": "code",
   "execution_count": 1113,
   "metadata": {},
   "outputs": [
    {
     "data": {
      "text/html": [
       "<div>\n",
       "<style scoped>\n",
       "    .dataframe tbody tr th:only-of-type {\n",
       "        vertical-align: middle;\n",
       "    }\n",
       "\n",
       "    .dataframe tbody tr th {\n",
       "        vertical-align: top;\n",
       "    }\n",
       "\n",
       "    .dataframe thead th {\n",
       "        text-align: right;\n",
       "    }\n",
       "</style>\n",
       "<table border=\"1\" class=\"dataframe\">\n",
       "  <thead>\n",
       "    <tr style=\"text-align: right;\">\n",
       "      <th></th>\n",
       "      <th>Trips</th>\n",
       "      <th>Holiday</th>\n",
       "      <th>PRCP</th>\n",
       "      <th>SNOW</th>\n",
       "      <th>TMAX</th>\n",
       "      <th>TMIN</th>\n",
       "      <th>TAVG</th>\n",
       "      <th>AWND</th>\n",
       "      <th>Month</th>\n",
       "      <th>Weekday</th>\n",
       "    </tr>\n",
       "  </thead>\n",
       "  <tbody>\n",
       "    <tr>\n",
       "      <th>count</th>\n",
       "      <td>142.000000</td>\n",
       "      <td>142.000000</td>\n",
       "      <td>142.000000</td>\n",
       "      <td>142.000000</td>\n",
       "      <td>142.000000</td>\n",
       "      <td>142.000000</td>\n",
       "      <td>142.000000</td>\n",
       "      <td>142.000000</td>\n",
       "      <td>142.000000</td>\n",
       "      <td>142.000000</td>\n",
       "    </tr>\n",
       "    <tr>\n",
       "      <th>mean</th>\n",
       "      <td>9048.626761</td>\n",
       "      <td>0.035211</td>\n",
       "      <td>2.495070</td>\n",
       "      <td>1.866197</td>\n",
       "      <td>20.149296</td>\n",
       "      <td>10.665493</td>\n",
       "      <td>15.326761</td>\n",
       "      <td>3.662676</td>\n",
       "      <td>6.084507</td>\n",
       "      <td>2.894366</td>\n",
       "    </tr>\n",
       "    <tr>\n",
       "      <th>std</th>\n",
       "      <td>3411.855492</td>\n",
       "      <td>0.184966</td>\n",
       "      <td>7.049464</td>\n",
       "      <td>12.683954</td>\n",
       "      <td>10.875653</td>\n",
       "      <td>10.408889</td>\n",
       "      <td>10.358263</td>\n",
       "      <td>1.405945</td>\n",
       "      <td>3.359105</td>\n",
       "      <td>1.934046</td>\n",
       "    </tr>\n",
       "    <tr>\n",
       "      <th>min</th>\n",
       "      <td>501.000000</td>\n",
       "      <td>0.000000</td>\n",
       "      <td>0.000000</td>\n",
       "      <td>0.000000</td>\n",
       "      <td>-5.500000</td>\n",
       "      <td>-14.900000</td>\n",
       "      <td>-10.600000</td>\n",
       "      <td>1.300000</td>\n",
       "      <td>1.000000</td>\n",
       "      <td>0.000000</td>\n",
       "    </tr>\n",
       "    <tr>\n",
       "      <th>25%</th>\n",
       "      <td>5980.000000</td>\n",
       "      <td>0.000000</td>\n",
       "      <td>0.000000</td>\n",
       "      <td>0.000000</td>\n",
       "      <td>11.100000</td>\n",
       "      <td>2.800000</td>\n",
       "      <td>7.275000</td>\n",
       "      <td>2.600000</td>\n",
       "      <td>3.000000</td>\n",
       "      <td>1.000000</td>\n",
       "    </tr>\n",
       "    <tr>\n",
       "      <th>50%</th>\n",
       "      <td>10186.500000</td>\n",
       "      <td>0.000000</td>\n",
       "      <td>0.000000</td>\n",
       "      <td>0.000000</td>\n",
       "      <td>20.600000</td>\n",
       "      <td>10.300000</td>\n",
       "      <td>15.050000</td>\n",
       "      <td>3.500000</td>\n",
       "      <td>7.000000</td>\n",
       "      <td>3.000000</td>\n",
       "    </tr>\n",
       "    <tr>\n",
       "      <th>75%</th>\n",
       "      <td>11835.000000</td>\n",
       "      <td>0.000000</td>\n",
       "      <td>0.500000</td>\n",
       "      <td>0.000000</td>\n",
       "      <td>30.000000</td>\n",
       "      <td>20.600000</td>\n",
       "      <td>24.675000</td>\n",
       "      <td>4.300000</td>\n",
       "      <td>8.000000</td>\n",
       "      <td>5.000000</td>\n",
       "    </tr>\n",
       "    <tr>\n",
       "      <th>max</th>\n",
       "      <td>14116.000000</td>\n",
       "      <td>1.000000</td>\n",
       "      <td>60.200000</td>\n",
       "      <td>122.000000</td>\n",
       "      <td>37.200000</td>\n",
       "      <td>27.800000</td>\n",
       "      <td>31.600000</td>\n",
       "      <td>8.200000</td>\n",
       "      <td>12.000000</td>\n",
       "      <td>6.000000</td>\n",
       "    </tr>\n",
       "  </tbody>\n",
       "</table>\n",
       "</div>"
      ],
      "text/plain": [
       "              Trips     Holiday        PRCP        SNOW        TMAX  \\\n",
       "count    142.000000  142.000000  142.000000  142.000000  142.000000   \n",
       "mean    9048.626761    0.035211    2.495070    1.866197   20.149296   \n",
       "std     3411.855492    0.184966    7.049464   12.683954   10.875653   \n",
       "min      501.000000    0.000000    0.000000    0.000000   -5.500000   \n",
       "25%     5980.000000    0.000000    0.000000    0.000000   11.100000   \n",
       "50%    10186.500000    0.000000    0.000000    0.000000   20.600000   \n",
       "75%    11835.000000    0.000000    0.500000    0.000000   30.000000   \n",
       "max    14116.000000    1.000000   60.200000  122.000000   37.200000   \n",
       "\n",
       "             TMIN        TAVG        AWND       Month     Weekday  \n",
       "count  142.000000  142.000000  142.000000  142.000000  142.000000  \n",
       "mean    10.665493   15.326761    3.662676    6.084507    2.894366  \n",
       "std     10.408889   10.358263    1.405945    3.359105    1.934046  \n",
       "min    -14.900000  -10.600000    1.300000    1.000000    0.000000  \n",
       "25%      2.800000    7.275000    2.600000    3.000000    1.000000  \n",
       "50%     10.300000   15.050000    3.500000    7.000000    3.000000  \n",
       "75%     20.600000   24.675000    4.300000    8.000000    5.000000  \n",
       "max     27.800000   31.600000    8.200000   12.000000    6.000000  "
      ]
     },
     "execution_count": 1113,
     "metadata": {},
     "output_type": "execute_result"
    }
   ],
   "source": [
    "test.describe()"
   ]
  },
  {
   "cell_type": "code",
   "execution_count": null,
   "metadata": {},
   "outputs": [],
   "source": []
  },
  {
   "cell_type": "code",
   "execution_count": null,
   "metadata": {},
   "outputs": [],
   "source": []
  },
  {
   "cell_type": "code",
   "execution_count": null,
   "metadata": {},
   "outputs": [],
   "source": []
  },
  {
   "cell_type": "code",
   "execution_count": 1114,
   "metadata": {},
   "outputs": [],
   "source": [
    "from sklearn.metrics import mean_squared_error\n",
    "import numpy as np\n"
   ]
  },
  {
   "cell_type": "code",
   "execution_count": 1115,
   "metadata": {},
   "outputs": [],
   "source": [
    "from sklearn.cross_validation import cross_val_score\n"
   ]
  },
  {
   "cell_type": "code",
   "execution_count": 1116,
   "metadata": {},
   "outputs": [],
   "source": [
    "def results(scores, mse):\n",
    "    print(\"Root Mean Squared Error:\",np.sqrt(mse))\n",
    "    rmse_scores = np.sqrt(-scores)\n",
    "    print(\"Scores:\",scores)\n",
    "    print(\"Mean:\",scores.mean())\n",
    "    print(\"Std. Dev:\",scores.std())"
   ]
  },
  {
   "cell_type": "code",
   "execution_count": 1117,
   "metadata": {
    "scrolled": true
   },
   "outputs": [
    {
     "data": {
      "text/html": [
       "<div>\n",
       "<style scoped>\n",
       "    .dataframe tbody tr th:only-of-type {\n",
       "        vertical-align: middle;\n",
       "    }\n",
       "\n",
       "    .dataframe tbody tr th {\n",
       "        vertical-align: top;\n",
       "    }\n",
       "\n",
       "    .dataframe thead th {\n",
       "        text-align: right;\n",
       "    }\n",
       "</style>\n",
       "<table border=\"1\" class=\"dataframe\">\n",
       "  <thead>\n",
       "    <tr style=\"text-align: right;\">\n",
       "      <th></th>\n",
       "      <th>Trips</th>\n",
       "      <th>Holiday</th>\n",
       "      <th>PRCP</th>\n",
       "      <th>SNOW</th>\n",
       "      <th>TMAX</th>\n",
       "      <th>TMIN</th>\n",
       "      <th>TAVG</th>\n",
       "      <th>AWND</th>\n",
       "      <th>Month</th>\n",
       "    </tr>\n",
       "  </thead>\n",
       "  <tbody>\n",
       "    <tr>\n",
       "      <th>0</th>\n",
       "      <td>2611.0</td>\n",
       "      <td>1</td>\n",
       "      <td>0.0</td>\n",
       "      <td>0.0</td>\n",
       "      <td>8.3</td>\n",
       "      <td>-2.7</td>\n",
       "      <td>1.7</td>\n",
       "      <td>3.7</td>\n",
       "      <td>1</td>\n",
       "    </tr>\n",
       "    <tr>\n",
       "      <th>1</th>\n",
       "      <td>5155.0</td>\n",
       "      <td>0</td>\n",
       "      <td>0.0</td>\n",
       "      <td>0.0</td>\n",
       "      <td>9.4</td>\n",
       "      <td>1.7</td>\n",
       "      <td>5.3</td>\n",
       "      <td>1.3</td>\n",
       "      <td>1</td>\n",
       "    </tr>\n",
       "    <tr>\n",
       "      <th>2</th>\n",
       "      <td>1718.0</td>\n",
       "      <td>0</td>\n",
       "      <td>12.7</td>\n",
       "      <td>0.0</td>\n",
       "      <td>5.6</td>\n",
       "      <td>1.1</td>\n",
       "      <td>4.0</td>\n",
       "      <td>1.5</td>\n",
       "      <td>1</td>\n",
       "    </tr>\n",
       "    <tr>\n",
       "      <th>3</th>\n",
       "      <td>5262.0</td>\n",
       "      <td>0</td>\n",
       "      <td>0.0</td>\n",
       "      <td>0.0</td>\n",
       "      <td>11.1</td>\n",
       "      <td>-1.6</td>\n",
       "      <td>7.8</td>\n",
       "      <td>6.4</td>\n",
       "      <td>1</td>\n",
       "    </tr>\n",
       "    <tr>\n",
       "      <th>4</th>\n",
       "      <td>2086.0</td>\n",
       "      <td>0</td>\n",
       "      <td>5.1</td>\n",
       "      <td>61.0</td>\n",
       "      <td>0.0</td>\n",
       "      <td>-4.3</td>\n",
       "      <td>-1.9</td>\n",
       "      <td>2.2</td>\n",
       "      <td>1</td>\n",
       "    </tr>\n",
       "  </tbody>\n",
       "</table>\n",
       "</div>"
      ],
      "text/plain": [
       "    Trips  Holiday  PRCP  SNOW  TMAX  TMIN  TAVG  AWND  Month\n",
       "0  2611.0        1   0.0   0.0   8.3  -2.7   1.7   3.7      1\n",
       "1  5155.0        0   0.0   0.0   9.4   1.7   5.3   1.3      1\n",
       "2  1718.0        0  12.7   0.0   5.6   1.1   4.0   1.5      1\n",
       "3  5262.0        0   0.0   0.0  11.1  -1.6   7.8   6.4      1\n",
       "4  2086.0        0   5.1  61.0   0.0  -4.3  -1.9   2.2      1"
      ]
     },
     "execution_count": 1117,
     "metadata": {},
     "output_type": "execute_result"
    }
   ],
   "source": [
    "data.head()"
   ]
  },
  {
   "cell_type": "markdown",
   "metadata": {},
   "source": [
    "# Grid Search"
   ]
  },
  {
   "cell_type": "code",
   "execution_count": 1118,
   "metadata": {},
   "outputs": [],
   "source": [
    "def GridSearch(reg, params):\n",
    "    grid = GridSearchCV(reg, params, cv=10, scoring = \"neg_mean_squared_error\")\n",
    "    grid.fit(X_train, Y_train)\n",
    "    return (grid.best_params_)"
   ]
  },
  {
   "cell_type": "markdown",
   "metadata": {},
   "source": [
    "# Regressor Test"
   ]
  },
  {
   "cell_type": "code",
   "execution_count": 1119,
   "metadata": {},
   "outputs": [],
   "source": [
    "from sklearn.feature_selection import SelectFromModel\n",
    "from sklearn.preprocessing import StandardScaler\n",
    "from sklearn.pipeline import make_pipeline\n",
    "from sklearn.decomposition import PCA\n",
    "\n",
    "def RegressorTest(Regressor, params):\n",
    "    reg = Regressor()\n",
    "    result = GridSearch(reg, params)\n",
    "    print(result)\n",
    "    \n",
    "    reg = Regressor(**result)\n",
    "    std_reg = make_pipeline(StandardScaler(),PCA(n_components=4), reg)\n",
    "   \n",
    "    std_reg.fit(X_train, Y_train)\n",
    "    Y_predict = std_reg.predict(X_test)\n",
    "    mse = mean_squared_error(Y_predict, Y_test)\n",
    "\n",
    "    scores = cross_val_score(reg, X_train, Y_train, scoring = \"neg_mean_squared_error\", cv=10)\n",
    "    rmse_scores = np.sqrt(-scores)\n",
    "    results(rmse_scores, mse)"
   ]
  },
  {
   "cell_type": "markdown",
   "metadata": {},
   "source": [
    "# Linear Regressor"
   ]
  },
  {
   "cell_type": "code",
   "execution_count": 1120,
   "metadata": {},
   "outputs": [],
   "source": [
    "from sklearn.linear_model import LinearRegression\n",
    "params = [{\"fit_intercept\":[True, False], \"normalize\":[True,False]}]\n",
    "#RegressorTest(LinearRegression, params)"
   ]
  },
  {
   "cell_type": "markdown",
   "metadata": {},
   "source": [
    "# Random Forest Regressor"
   ]
  },
  {
   "cell_type": "code",
   "execution_count": 1121,
   "metadata": {},
   "outputs": [],
   "source": [
    "from sklearn.ensemble import RandomForestRegressor\n",
    "params = [{'n_estimators': [200], 'max_features':[\"auto\",\"sqrt\",\"log2\"], \"min_impurity_decrease\":[0,0.01,0.1,1,10]}]\n",
    "#RegressorTest(RandomForestRegressor, params)"
   ]
  },
  {
   "cell_type": "markdown",
   "metadata": {},
   "source": [
    "# KNN Regressor"
   ]
  },
  {
   "cell_type": "code",
   "execution_count": 1122,
   "metadata": {},
   "outputs": [],
   "source": [
    "from sklearn.neighbors import KNeighborsRegressor\n",
    "params = [{'n_neighbors': [7,10,13], 'leaf_size':[35], 'weights':[\"uniform\",\"distance\"], \"algorithm\": [\"ball_tree\", \"kd_tree\", \"brute\", \"auto\"], \"p\":[1,2]}]\n",
    "#RegressorTest(KNeighborsRegressor, params)"
   ]
  },
  {
   "cell_type": "markdown",
   "metadata": {},
   "source": [
    "# Gaussian Process Regressor"
   ]
  },
  {
   "cell_type": "code",
   "execution_count": 1123,
   "metadata": {
    "scrolled": true
   },
   "outputs": [],
   "source": [
    "from sklearn.gaussian_process import GaussianProcessRegressor\n",
    "params = [{\"normalize_y\":[False]}]\n",
    "#RegressorTest(GaussianProcessRegressor, params)"
   ]
  },
  {
   "cell_type": "markdown",
   "metadata": {},
   "source": [
    "# SGD Regressor"
   ]
  },
  {
   "cell_type": "code",
   "execution_count": 1124,
   "metadata": {
    "scrolled": true
   },
   "outputs": [],
   "source": [
    "from sklearn.linear_model import SGDRegressor\n",
    "params = [{\"max_iter\":[20000], \"penalty\":[None, \"l1\",\"l2\"], \"eta0\":[0.005]}]\n",
    "#RegressorTest(SGDRegressor, params)"
   ]
  },
  {
   "cell_type": "markdown",
   "metadata": {},
   "source": [
    "# Ridge"
   ]
  },
  {
   "cell_type": "code",
   "execution_count": 1125,
   "metadata": {},
   "outputs": [],
   "source": [
    "from sklearn.linear_model import Ridge\n",
    "params = [{\"solver\":[\"auto\", \"lsqr\", \"sag\"]}]\n",
    "#RegressorTest(Ridge, params)"
   ]
  },
  {
   "cell_type": "markdown",
   "metadata": {},
   "source": [
    "# Lasso"
   ]
  },
  {
   "cell_type": "code",
   "execution_count": 1126,
   "metadata": {},
   "outputs": [],
   "source": [
    "from sklearn.linear_model import Lasso\n",
    "params = [{\"selection\":[\"cyclic\",\"random\"]}]\n",
    "#RegressorTest(Lasso, params)"
   ]
  },
  {
   "cell_type": "markdown",
   "metadata": {},
   "source": [
    "# SVR"
   ]
  },
  {
   "cell_type": "code",
   "execution_count": 1127,
   "metadata": {},
   "outputs": [],
   "source": [
    "from sklearn.svm import SVR\n",
    "params = {\"C\":[5500, 6000, 6500], \"epsilon\":[0.15, 0.2]}\n",
    "#RegressorTest(SVR, params)"
   ]
  },
  {
   "cell_type": "markdown",
   "metadata": {},
   "source": [
    "# Decision Tree"
   ]
  },
  {
   "cell_type": "code",
   "execution_count": 1128,
   "metadata": {},
   "outputs": [],
   "source": [
    "from sklearn.tree import DecisionTreeRegressor\n",
    "params = {\"criterion\":[\"mse\", \"friedman_mse\"], \"max_features\":[\"auto\", \"sqrt\", \"log2\"]}\n",
    "#RegressorTest(DecisionTreeRegressor, params)"
   ]
  },
  {
   "cell_type": "markdown",
   "metadata": {},
   "source": [
    "# Bagging Regressor Ensemble"
   ]
  },
  {
   "cell_type": "code",
   "execution_count": 1129,
   "metadata": {
    "scrolled": true
   },
   "outputs": [
    {
     "data": {
      "text/plain": [
       "'reg = BaggingRegressor(base_estimator=                           RandomForestRegressor(**{\\'n_estimators\\': 200, \\'max_features\\':\"sqrt\", \"min_impurity_decrease\":10}))\\n\\nstd_reg = make_pipeline(StandardScaler(), reg)\\n\\nstd_reg.fit(X_train, Y_train)\\nY_predict = std_reg.predict(X_test)\\nmse = mean_squared_error(Y_predict, Y_test)\\n\\nscores = cross_val_score(reg, X_train, Y_train, scoring = \"neg_mean_squared_error\", cv=10)\\nrmse_scores = np.sqrt(-scores)\\nresults(rmse_scores, mse)\\n'"
      ]
     },
     "execution_count": 1129,
     "metadata": {},
     "output_type": "execute_result"
    }
   ],
   "source": [
    "from sklearn.ensemble import BaggingRegressor\n",
    "\"\"\"reg = BaggingRegressor(base_estimator=\\\n",
    "                           RandomForestRegressor(**{'n_estimators': 200, 'max_features':\"sqrt\", \"min_impurity_decrease\":10}))\n",
    "\n",
    "std_reg = make_pipeline(StandardScaler(), reg)\n",
    "\n",
    "std_reg.fit(X_train, Y_train)\n",
    "Y_predict = std_reg.predict(X_test)\n",
    "mse = mean_squared_error(Y_predict, Y_test)\n",
    "\n",
    "scores = cross_val_score(reg, X_train, Y_train, scoring = \"neg_mean_squared_error\", cv=10)\n",
    "rmse_scores = np.sqrt(-scores)\n",
    "results(rmse_scores, mse)\n",
    "\"\"\""
   ]
  },
  {
   "cell_type": "code",
   "execution_count": 1130,
   "metadata": {},
   "outputs": [],
   "source": [
    "Test_Data_1 = pd.read_csv(\"Data/Testing.csv\")\n",
    "Test_Data = Test_Data_1.drop(axis=1, labels = [\"ID\"])\n",
    "Test_Data = Test_Data.drop(axis=1, labels = [\"SNWD\"])\n",
    "Test_Data = Test_Data.drop(axis=1, labels = [\"Weekday\", \"Month\"])\n"
   ]
  },
  {
   "cell_type": "code",
   "execution_count": 1131,
   "metadata": {},
   "outputs": [],
   "source": [
    "#reg = RandomForestRegressor(**{'n_estimators': 200, 'max_features':\"sqrt\", \"min_impurity_decrease\":10})\n",
    "reg = KNeighborsRegressor(**{'algorithm': 'ball_tree', 'leaf_size': 40, 'n_neighbors': 7, 'weights': 'distance'})\n",
    "#std_reg = make_pipeline(StandardScaler(),PCA(n_components=4), reg)\n",
    "reg.fit(X_train, Y_train)\n",
    "Test_Predictions = reg.predict(Test_Data)\n"
   ]
  },
  {
   "cell_type": "code",
   "execution_count": 1132,
   "metadata": {},
   "outputs": [],
   "source": [
    "result = pd.DataFrame(Test_Predictions, columns = [\"Total\"])\n",
    "result[\"ID\"] = Test_Data_1[\"ID\"]\n",
    "cols = result.columns.tolist()\n",
    "cols = cols[-1:] + cols[:-1]\n",
    "result = result[cols]"
   ]
  },
  {
   "cell_type": "code",
   "execution_count": 1133,
   "metadata": {},
   "outputs": [],
   "source": [
    "f = open(\"Results.csv\", \"w\")\n",
    "f.write(result.to_csv(index=False))\n",
    "f.close()"
   ]
  },
  {
   "cell_type": "code",
   "execution_count": 1135,
   "metadata": {},
   "outputs": [
    {
     "data": {
      "text/plain": [
       "Month      0.087418\n",
       "AWND      -0.485870\n",
       "PRCP      -0.339623\n",
       "SNOW       0.046931\n",
       "TAVG       0.804252\n",
       "TMAX       0.823992\n",
       "TMIN       0.779153\n",
       "Holiday    0.027881\n",
       "Trips      1.000000\n",
       "Name: Trips, dtype: float64"
      ]
     },
     "execution_count": 1135,
     "metadata": {},
     "output_type": "execute_result"
    }
   ],
   "source": [
    "Test_Data[\"Trips\"] = Test_Predictions\n",
    "Test_Data.corr()[\"Trips\"]"
   ]
  },
  {
   "cell_type": "code",
   "execution_count": null,
   "metadata": {},
   "outputs": [],
   "source": []
  }
 ],
 "metadata": {
  "kernelspec": {
   "display_name": "Python 3",
   "language": "python",
   "name": "python3"
  },
  "language_info": {
   "codemirror_mode": {
    "name": "ipython",
    "version": 3
   },
   "file_extension": ".py",
   "mimetype": "text/x-python",
   "name": "python",
   "nbconvert_exporter": "python",
   "pygments_lexer": "ipython3",
   "version": "3.6.0"
  }
 },
 "nbformat": 4,
 "nbformat_minor": 2
}
