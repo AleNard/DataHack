{
 "cells": [
  {
   "cell_type": "code",
   "execution_count": 1,
   "metadata": {
    "collapsed": true
   },
   "outputs": [],
   "source": [
    "import pandas as pd"
   ]
  },
  {
   "cell_type": "code",
   "execution_count": 9,
   "metadata": {
    "collapsed": true
   },
   "outputs": [],
   "source": [
    "bikes = pd.read_csv(\"Data/Bikes.csv\")"
   ]
  },
  {
   "cell_type": "code",
   "execution_count": 10,
   "metadata": {},
   "outputs": [
    {
     "data": {
      "text/html": [
       "<div>\n",
       "<table border=\"1\" class=\"dataframe\">\n",
       "  <thead>\n",
       "    <tr style=\"text-align: right;\">\n",
       "      <th></th>\n",
       "      <th>Trips</th>\n",
       "    </tr>\n",
       "  </thead>\n",
       "  <tbody>\n",
       "    <tr>\n",
       "      <th>count</th>\n",
       "      <td>727.000000</td>\n",
       "    </tr>\n",
       "    <tr>\n",
       "      <th>mean</th>\n",
       "      <td>9378.453920</td>\n",
       "    </tr>\n",
       "    <tr>\n",
       "      <th>std</th>\n",
       "      <td>8977.242453</td>\n",
       "    </tr>\n",
       "    <tr>\n",
       "      <th>min</th>\n",
       "      <td>-4279.000000</td>\n",
       "    </tr>\n",
       "    <tr>\n",
       "      <th>25%</th>\n",
       "      <td>6161.500000</td>\n",
       "    </tr>\n",
       "    <tr>\n",
       "      <th>50%</th>\n",
       "      <td>9990.000000</td>\n",
       "    </tr>\n",
       "    <tr>\n",
       "      <th>75%</th>\n",
       "      <td>11759.000000</td>\n",
       "    </tr>\n",
       "    <tr>\n",
       "      <th>max</th>\n",
       "      <td>207398.000000</td>\n",
       "    </tr>\n",
       "  </tbody>\n",
       "</table>\n",
       "</div>"
      ],
      "text/plain": [
       "               Trips\n",
       "count     727.000000\n",
       "mean     9378.453920\n",
       "std      8977.242453\n",
       "min     -4279.000000\n",
       "25%      6161.500000\n",
       "50%      9990.000000\n",
       "75%     11759.000000\n",
       "max    207398.000000"
      ]
     },
     "execution_count": 10,
     "metadata": {},
     "output_type": "execute_result"
    }
   ],
   "source": [
    "bikes.describe()"
   ]
  },
  {
   "cell_type": "code",
   "execution_count": 11,
   "metadata": {},
   "outputs": [
    {
     "data": {
      "text/html": [
       "<div>\n",
       "<table border=\"1\" class=\"dataframe\">\n",
       "  <thead>\n",
       "    <tr style=\"text-align: right;\">\n",
       "      <th></th>\n",
       "      <th>Date</th>\n",
       "      <th>Trips</th>\n",
       "    </tr>\n",
       "  </thead>\n",
       "  <tbody>\n",
       "    <tr>\n",
       "      <th>0</th>\n",
       "      <td>01/01/2015</td>\n",
       "      <td>2611</td>\n",
       "    </tr>\n",
       "    <tr>\n",
       "      <th>1</th>\n",
       "      <td>02/01/2015</td>\n",
       "      <td>5155</td>\n",
       "    </tr>\n",
       "    <tr>\n",
       "      <th>2</th>\n",
       "      <td>03/01/2015</td>\n",
       "      <td>1718</td>\n",
       "    </tr>\n",
       "    <tr>\n",
       "      <th>3</th>\n",
       "      <td>04/01/2015</td>\n",
       "      <td>3711</td>\n",
       "    </tr>\n",
       "    <tr>\n",
       "      <th>4</th>\n",
       "      <td>05/01/2015</td>\n",
       "      <td>5262</td>\n",
       "    </tr>\n",
       "  </tbody>\n",
       "</table>\n",
       "</div>"
      ],
      "text/plain": [
       "         Date  Trips\n",
       "0  01/01/2015   2611\n",
       "1  02/01/2015   5155\n",
       "2  03/01/2015   1718\n",
       "3  04/01/2015   3711\n",
       "4  05/01/2015   5262"
      ]
     },
     "execution_count": 11,
     "metadata": {},
     "output_type": "execute_result"
    }
   ],
   "source": [
    "bikes.head()"
   ]
  },
  {
   "cell_type": "code",
   "execution_count": 12,
   "metadata": {},
   "outputs": [
    {
     "name": "stdout",
     "output_type": "stream",
     "text": [
      "<class 'pandas.core.frame.DataFrame'>\n",
      "RangeIndex: 727 entries, 0 to 726\n",
      "Data columns (total 2 columns):\n",
      "Date     727 non-null object\n",
      "Trips    727 non-null int64\n",
      "dtypes: int64(1), object(1)\n",
      "memory usage: 11.4+ KB\n"
     ]
    }
   ],
   "source": [
    "bikes.info()"
   ]
  },
  {
   "cell_type": "code",
   "execution_count": 17,
   "metadata": {},
   "outputs": [],
   "source": [
    "bikes[\"Date\"] = pd.to_datetime(bikes[\"Date\"], format=\"%d/%m/%Y\", dayfirst=True)"
   ]
  },
  {
   "cell_type": "code",
   "execution_count": 18,
   "metadata": {},
   "outputs": [
    {
     "name": "stdout",
     "output_type": "stream",
     "text": [
      "0     2015-01-01\n",
      "1     2015-01-02\n",
      "2     2015-01-03\n",
      "3     2015-01-04\n",
      "4     2015-01-05\n",
      "5     2015-01-06\n",
      "6     2015-01-07\n",
      "7     2015-01-08\n",
      "8     2015-01-09\n",
      "9     2015-01-10\n",
      "10    2015-01-11\n",
      "11    2015-01-12\n",
      "12    2015-01-13\n",
      "13    2015-01-14\n",
      "14    2015-01-15\n",
      "15    2015-01-16\n",
      "16    2015-01-17\n",
      "17    2015-01-18\n",
      "18    2015-01-19\n",
      "19    2015-01-20\n",
      "20    2015-01-21\n",
      "21    2015-01-22\n",
      "22    2015-01-23\n",
      "23    2015-01-24\n",
      "24    2015-01-25\n",
      "25    2015-01-26\n",
      "26    2015-01-27\n",
      "27    2015-01-28\n",
      "28    2015-01-29\n",
      "29    2015-01-30\n",
      "         ...    \n",
      "697   2016-12-02\n",
      "698   2016-12-03\n",
      "699   2016-12-04\n",
      "700   2016-12-05\n",
      "701   2016-12-06\n",
      "702   2016-12-07\n",
      "703   2016-12-08\n",
      "704   2016-12-09\n",
      "705   2016-12-10\n",
      "706   2016-12-11\n",
      "707   2016-12-12\n",
      "708   2016-12-13\n",
      "709   2016-12-14\n",
      "710   2016-12-15\n",
      "711   2016-12-16\n",
      "712   2016-12-17\n",
      "713   2016-12-18\n",
      "714   2016-12-19\n",
      "715   2016-12-20\n",
      "716   2016-12-21\n",
      "717   2016-12-22\n",
      "718   2016-12-23\n",
      "719   2016-12-24\n",
      "720   2016-12-25\n",
      "721   2016-12-26\n",
      "722   2016-12-27\n",
      "723   2016-12-28\n",
      "724   2016-12-29\n",
      "725   2016-12-30\n",
      "726   2016-12-31\n",
      "Name: Date, dtype: datetime64[ns]\n"
     ]
    }
   ],
   "source": [
    "print(bikes[\"Date\"])"
   ]
  },
  {
   "cell_type": "code",
   "execution_count": null,
   "metadata": {
    "collapsed": true
   },
   "outputs": [],
   "source": []
  }
 ],
 "metadata": {
  "kernelspec": {
   "display_name": "Python 3",
   "language": "python",
   "name": "python3"
  },
  "language_info": {
   "codemirror_mode": {
    "name": "ipython",
    "version": 3
   },
   "file_extension": ".py",
   "mimetype": "text/x-python",
   "name": "python",
   "nbconvert_exporter": "python",
   "pygments_lexer": "ipython3",
   "version": "3.6.0"
  }
 },
 "nbformat": 4,
 "nbformat_minor": 2
}
