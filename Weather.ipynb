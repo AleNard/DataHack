{
 "cells": [
  {
   "cell_type": "code",
   "execution_count": 2,
   "metadata": {},
   "outputs": [],
   "source": [
    "import pandas as pd"
   ]
  },
  {
   "cell_type": "code",
   "execution_count": 3,
   "metadata": {},
   "outputs": [],
   "source": [
    "weather = pd.read_csv(\"Data/Weather.csv\")"
   ]
  },
  {
   "cell_type": "code",
   "execution_count": 4,
   "metadata": {},
   "outputs": [
    {
     "name": "stdout",
     "output_type": "stream",
     "text": [
      "<class 'pandas.core.frame.DataFrame'>\n",
      "RangeIndex: 731 entries, 0 to 730\n",
      "Data columns (total 7 columns):\n",
      "Date    731 non-null object\n",
      "PRCP    728 non-null float64\n",
      "SNOW    727 non-null float64\n",
      "TMAX    730 non-null float64\n",
      "TMIN    730 non-null float64\n",
      "TAVG    730 non-null float64\n",
      "AWND    731 non-null float64\n",
      "dtypes: float64(6), object(1)\n",
      "memory usage: 40.1+ KB\n"
     ]
    }
   ],
   "source": [
    "weather.info()"
   ]
  },
  {
   "cell_type": "code",
   "execution_count": 5,
   "metadata": {},
   "outputs": [
    {
     "data": {
      "text/html": [
       "<div>\n",
       "<style scoped>\n",
       "    .dataframe tbody tr th:only-of-type {\n",
       "        vertical-align: middle;\n",
       "    }\n",
       "\n",
       "    .dataframe tbody tr th {\n",
       "        vertical-align: top;\n",
       "    }\n",
       "\n",
       "    .dataframe thead th {\n",
       "        text-align: right;\n",
       "    }\n",
       "</style>\n",
       "<table border=\"1\" class=\"dataframe\">\n",
       "  <thead>\n",
       "    <tr style=\"text-align: right;\">\n",
       "      <th></th>\n",
       "      <th>PRCP</th>\n",
       "      <th>SNOW</th>\n",
       "      <th>TMAX</th>\n",
       "      <th>TMIN</th>\n",
       "      <th>TAVG</th>\n",
       "      <th>AWND</th>\n",
       "    </tr>\n",
       "  </thead>\n",
       "  <tbody>\n",
       "    <tr>\n",
       "      <th>count</th>\n",
       "      <td>728.000000</td>\n",
       "      <td>727.000000</td>\n",
       "      <td>730.000000</td>\n",
       "      <td>730.000000</td>\n",
       "      <td>730.000000</td>\n",
       "      <td>731.000000</td>\n",
       "    </tr>\n",
       "    <tr>\n",
       "      <th>mean</th>\n",
       "      <td>2.678846</td>\n",
       "      <td>1.420908</td>\n",
       "      <td>20.596712</td>\n",
       "      <td>9.550137</td>\n",
       "      <td>18.229726</td>\n",
       "      <td>3.749248</td>\n",
       "    </tr>\n",
       "    <tr>\n",
       "      <th>std</th>\n",
       "      <td>6.983797</td>\n",
       "      <td>14.262455</td>\n",
       "      <td>10.993150</td>\n",
       "      <td>42.127156</td>\n",
       "      <td>74.095154</td>\n",
       "      <td>1.529915</td>\n",
       "    </tr>\n",
       "    <tr>\n",
       "      <th>min</th>\n",
       "      <td>0.000000</td>\n",
       "      <td>0.000000</td>\n",
       "      <td>-6.600000</td>\n",
       "      <td>-1096.700000</td>\n",
       "      <td>-10.600000</td>\n",
       "      <td>-4.100000</td>\n",
       "    </tr>\n",
       "    <tr>\n",
       "      <th>25%</th>\n",
       "      <td>0.000000</td>\n",
       "      <td>0.000000</td>\n",
       "      <td>12.200000</td>\n",
       "      <td>3.300000</td>\n",
       "      <td>7.900000</td>\n",
       "      <td>2.700000</td>\n",
       "    </tr>\n",
       "    <tr>\n",
       "      <th>50%</th>\n",
       "      <td>0.000000</td>\n",
       "      <td>0.000000</td>\n",
       "      <td>21.100000</td>\n",
       "      <td>10.600000</td>\n",
       "      <td>15.800000</td>\n",
       "      <td>3.500000</td>\n",
       "    </tr>\n",
       "    <tr>\n",
       "      <th>75%</th>\n",
       "      <td>1.000000</td>\n",
       "      <td>0.000000</td>\n",
       "      <td>29.400000</td>\n",
       "      <td>20.000000</td>\n",
       "      <td>24.600000</td>\n",
       "      <td>4.700000</td>\n",
       "    </tr>\n",
       "    <tr>\n",
       "      <th>max</th>\n",
       "      <td>69.900000</td>\n",
       "      <td>287.000000</td>\n",
       "      <td>128.900000</td>\n",
       "      <td>27.800000</td>\n",
       "      <td>2000.100000</td>\n",
       "      <td>10.200000</td>\n",
       "    </tr>\n",
       "  </tbody>\n",
       "</table>\n",
       "</div>"
      ],
      "text/plain": [
       "             PRCP        SNOW        TMAX         TMIN         TAVG  \\\n",
       "count  728.000000  727.000000  730.000000   730.000000   730.000000   \n",
       "mean     2.678846    1.420908   20.596712     9.550137    18.229726   \n",
       "std      6.983797   14.262455   10.993150    42.127156    74.095154   \n",
       "min      0.000000    0.000000   -6.600000 -1096.700000   -10.600000   \n",
       "25%      0.000000    0.000000   12.200000     3.300000     7.900000   \n",
       "50%      0.000000    0.000000   21.100000    10.600000    15.800000   \n",
       "75%      1.000000    0.000000   29.400000    20.000000    24.600000   \n",
       "max     69.900000  287.000000  128.900000    27.800000  2000.100000   \n",
       "\n",
       "             AWND  \n",
       "count  731.000000  \n",
       "mean     3.749248  \n",
       "std      1.529915  \n",
       "min     -4.100000  \n",
       "25%      2.700000  \n",
       "50%      3.500000  \n",
       "75%      4.700000  \n",
       "max     10.200000  "
      ]
     },
     "execution_count": 5,
     "metadata": {},
     "output_type": "execute_result"
    }
   ],
   "source": [
    "weather.describe()"
   ]
  },
  {
   "cell_type": "code",
   "execution_count": 6,
   "metadata": {},
   "outputs": [],
   "source": [
    "weather = weather.dropna(axis=0, how=\"any\")"
   ]
  },
  {
   "cell_type": "code",
   "execution_count": 7,
   "metadata": {},
   "outputs": [
    {
     "data": {
      "text/html": [
       "<div>\n",
       "<style scoped>\n",
       "    .dataframe tbody tr th:only-of-type {\n",
       "        vertical-align: middle;\n",
       "    }\n",
       "\n",
       "    .dataframe tbody tr th {\n",
       "        vertical-align: top;\n",
       "    }\n",
       "\n",
       "    .dataframe thead th {\n",
       "        text-align: right;\n",
       "    }\n",
       "</style>\n",
       "<table border=\"1\" class=\"dataframe\">\n",
       "  <thead>\n",
       "    <tr style=\"text-align: right;\">\n",
       "      <th></th>\n",
       "      <th>PRCP</th>\n",
       "      <th>SNOW</th>\n",
       "      <th>TMAX</th>\n",
       "      <th>TMIN</th>\n",
       "      <th>TAVG</th>\n",
       "      <th>AWND</th>\n",
       "    </tr>\n",
       "  </thead>\n",
       "  <tbody>\n",
       "    <tr>\n",
       "      <th>count</th>\n",
       "      <td>721.000000</td>\n",
       "      <td>721.000000</td>\n",
       "      <td>721.000000</td>\n",
       "      <td>721.000000</td>\n",
       "      <td>721.000000</td>\n",
       "      <td>721.000000</td>\n",
       "    </tr>\n",
       "    <tr>\n",
       "      <th>mean</th>\n",
       "      <td>2.697781</td>\n",
       "      <td>1.432732</td>\n",
       "      <td>20.656588</td>\n",
       "      <td>9.590291</td>\n",
       "      <td>18.321359</td>\n",
       "      <td>3.741470</td>\n",
       "    </tr>\n",
       "    <tr>\n",
       "      <th>std</th>\n",
       "      <td>7.012795</td>\n",
       "      <td>14.321167</td>\n",
       "      <td>11.024518</td>\n",
       "      <td>42.382666</td>\n",
       "      <td>74.549291</td>\n",
       "      <td>1.533736</td>\n",
       "    </tr>\n",
       "    <tr>\n",
       "      <th>min</th>\n",
       "      <td>0.000000</td>\n",
       "      <td>0.000000</td>\n",
       "      <td>-6.600000</td>\n",
       "      <td>-1096.700000</td>\n",
       "      <td>-10.600000</td>\n",
       "      <td>-4.100000</td>\n",
       "    </tr>\n",
       "    <tr>\n",
       "      <th>25%</th>\n",
       "      <td>0.000000</td>\n",
       "      <td>0.000000</td>\n",
       "      <td>12.200000</td>\n",
       "      <td>3.300000</td>\n",
       "      <td>7.900000</td>\n",
       "      <td>2.700000</td>\n",
       "    </tr>\n",
       "    <tr>\n",
       "      <th>50%</th>\n",
       "      <td>0.000000</td>\n",
       "      <td>0.000000</td>\n",
       "      <td>21.100000</td>\n",
       "      <td>11.100000</td>\n",
       "      <td>15.900000</td>\n",
       "      <td>3.500000</td>\n",
       "    </tr>\n",
       "    <tr>\n",
       "      <th>75%</th>\n",
       "      <td>1.000000</td>\n",
       "      <td>0.000000</td>\n",
       "      <td>29.400000</td>\n",
       "      <td>20.000000</td>\n",
       "      <td>24.600000</td>\n",
       "      <td>4.600000</td>\n",
       "    </tr>\n",
       "    <tr>\n",
       "      <th>max</th>\n",
       "      <td>69.900000</td>\n",
       "      <td>287.000000</td>\n",
       "      <td>128.900000</td>\n",
       "      <td>27.800000</td>\n",
       "      <td>2000.100000</td>\n",
       "      <td>10.200000</td>\n",
       "    </tr>\n",
       "  </tbody>\n",
       "</table>\n",
       "</div>"
      ],
      "text/plain": [
       "             PRCP        SNOW        TMAX         TMIN         TAVG  \\\n",
       "count  721.000000  721.000000  721.000000   721.000000   721.000000   \n",
       "mean     2.697781    1.432732   20.656588     9.590291    18.321359   \n",
       "std      7.012795   14.321167   11.024518    42.382666    74.549291   \n",
       "min      0.000000    0.000000   -6.600000 -1096.700000   -10.600000   \n",
       "25%      0.000000    0.000000   12.200000     3.300000     7.900000   \n",
       "50%      0.000000    0.000000   21.100000    11.100000    15.900000   \n",
       "75%      1.000000    0.000000   29.400000    20.000000    24.600000   \n",
       "max     69.900000  287.000000  128.900000    27.800000  2000.100000   \n",
       "\n",
       "             AWND  \n",
       "count  721.000000  \n",
       "mean     3.741470  \n",
       "std      1.533736  \n",
       "min     -4.100000  \n",
       "25%      2.700000  \n",
       "50%      3.500000  \n",
       "75%      4.600000  \n",
       "max     10.200000  "
      ]
     },
     "execution_count": 7,
     "metadata": {},
     "output_type": "execute_result"
    }
   ],
   "source": [
    "weather.describe()"
   ]
  },
  {
   "cell_type": "code",
   "execution_count": 8,
   "metadata": {},
   "outputs": [
    {
     "data": {
      "text/plain": [
       "array([[<matplotlib.axes._subplots.AxesSubplot object at 0x1081b77b8>,\n",
       "        <matplotlib.axes._subplots.AxesSubplot object at 0x1082086d8>],\n",
       "       [<matplotlib.axes._subplots.AxesSubplot object at 0x108247978>,\n",
       "        <matplotlib.axes._subplots.AxesSubplot object at 0x10827d9e8>],\n",
       "       [<matplotlib.axes._subplots.AxesSubplot object at 0x1082b69e8>,\n",
       "        <matplotlib.axes._subplots.AxesSubplot object at 0x1082b6a20>]], dtype=object)"
      ]
     },
     "execution_count": 8,
     "metadata": {},
     "output_type": "execute_result"
    },
    {
     "data": {
      "image/png": "[encoded data removed]",
      "text/plain": [
       "<matplotlib.figure.Figure at 0x1081b7198>"
      ]
     },
     "metadata": {},
     "output_type": "display_data"
    }
   ],
   "source": [
    "import matplotlib\n",
    "%matplotlib inline\n",
    "weather.hist(bins=50, figsize=(20,20))"
   ]
  },
  {
   "cell_type": "code",
   "execution_count": 9,
   "metadata": {},
   "outputs": [],
   "source": [
    "weather = weather.drop(weather[weather.AWND<0].index)"
   ]
  },
  {
   "cell_type": "code",
   "execution_count": 10,
   "metadata": {},
   "outputs": [],
   "source": [
    "weather = weather.drop(weather[weather.TMIN<-600].index)"
   ]
  },
  {
   "cell_type": "code",
   "execution_count": 11,
   "metadata": {},
   "outputs": [],
   "source": [
    "weather = weather.drop(weather[weather.TMAX>100].index)"
   ]
  },
  {
   "cell_type": "code",
   "execution_count": 12,
   "metadata": {},
   "outputs": [],
   "source": [
    "weather = weather.drop(weather[weather.TAVG>500].index)"
   ]
  },
  {
   "cell_type": "code",
   "execution_count": 13,
   "metadata": {},
   "outputs": [
    {
     "data": {
      "text/plain": [
       "array([[<matplotlib.axes._subplots.AxesSubplot object at 0x106ef1198>,\n",
       "        <matplotlib.axes._subplots.AxesSubplot object at 0x109075b38>],\n",
       "       [<matplotlib.axes._subplots.AxesSubplot object at 0x1095b4eb8>,\n",
       "        <matplotlib.axes._subplots.AxesSubplot object at 0x1095e7eb8>],\n",
       "       [<matplotlib.axes._subplots.AxesSubplot object at 0x109736eb8>,\n",
       "        <matplotlib.axes._subplots.AxesSubplot object at 0x109736ef0>]], dtype=object)"
      ]
     },
     "execution_count": 13,
     "metadata": {},
     "output_type": "execute_result"
    },
    {
     "data": {
      "image/png": "[encoded data removed]",
      "text/plain": [
       "<matplotlib.figure.Figure at 0x1090159e8>"
      ]
     },
     "metadata": {},
     "output_type": "display_data"
    }
   ],
   "source": [
    "weather.hist(bins=50, figsize=(20,20))"
   ]
  },
  {
   "cell_type": "code",
   "execution_count": 14,
   "metadata": {},
   "outputs": [],
   "source": [
    "weather[\"Date\"] = pd.to_datetime(weather[\"Date\"], format=\"%d/%m/%Y\")"
   ]
  },
  {
   "cell_type": "code",
   "execution_count": 15,
   "metadata": {},
   "outputs": [],
   "source": [
    "f = open(\"Data/Weather_Clean.csv\",\"w\")\n",
    "f.write(weather.to_csv(index=False))\n",
    "f.close()"
   ]
  },
  {
   "cell_type": "code",
   "execution_count": null,
   "metadata": {},
   "outputs": [],
   "source": []
  },
  {
   "cell_type": "code",
   "execution_count": 16,
   "metadata": {},
   "outputs": [
    {
     "data": {
      "text/html": [
       "<div>\n",
       "<style scoped>\n",
       "    .dataframe tbody tr th:only-of-type {\n",
       "        vertical-align: middle;\n",
       "    }\n",
       "\n",
       "    .dataframe tbody tr th {\n",
       "        vertical-align: top;\n",
       "    }\n",
       "\n",
       "    .dataframe thead th {\n",
       "        text-align: right;\n",
       "    }\n",
       "</style>\n",
       "<table border=\"1\" class=\"dataframe\">\n",
       "  <thead>\n",
       "    <tr style=\"text-align: right;\">\n",
       "      <th></th>\n",
       "      <th>Date</th>\n",
       "      <th>PRCP</th>\n",
       "      <th>SNOW</th>\n",
       "      <th>TMAX</th>\n",
       "      <th>TMIN</th>\n",
       "      <th>TAVG</th>\n",
       "      <th>AWND</th>\n",
       "    </tr>\n",
       "  </thead>\n",
       "  <tbody>\n",
       "    <tr>\n",
       "      <th>0</th>\n",
       "      <td>2015-01-01</td>\n",
       "      <td>0.0</td>\n",
       "      <td>0.0</td>\n",
       "      <td>8.3</td>\n",
       "      <td>-2.7</td>\n",
       "      <td>1.7</td>\n",
       "      <td>3.7</td>\n",
       "    </tr>\n",
       "    <tr>\n",
       "      <th>1</th>\n",
       "      <td>2015-01-02</td>\n",
       "      <td>0.0</td>\n",
       "      <td>0.0</td>\n",
       "      <td>9.4</td>\n",
       "      <td>1.7</td>\n",
       "      <td>5.3</td>\n",
       "      <td>1.3</td>\n",
       "    </tr>\n",
       "    <tr>\n",
       "      <th>2</th>\n",
       "      <td>2015-01-03</td>\n",
       "      <td>12.7</td>\n",
       "      <td>0.0</td>\n",
       "      <td>5.6</td>\n",
       "      <td>1.1</td>\n",
       "      <td>4.0</td>\n",
       "      <td>1.5</td>\n",
       "    </tr>\n",
       "    <tr>\n",
       "      <th>3</th>\n",
       "      <td>2015-01-05</td>\n",
       "      <td>0.0</td>\n",
       "      <td>0.0</td>\n",
       "      <td>11.1</td>\n",
       "      <td>-1.6</td>\n",
       "      <td>7.8</td>\n",
       "      <td>6.4</td>\n",
       "    </tr>\n",
       "    <tr>\n",
       "      <th>4</th>\n",
       "      <td>2015-01-06</td>\n",
       "      <td>5.1</td>\n",
       "      <td>61.0</td>\n",
       "      <td>0.0</td>\n",
       "      <td>-4.3</td>\n",
       "      <td>-1.9</td>\n",
       "      <td>2.2</td>\n",
       "    </tr>\n",
       "  </tbody>\n",
       "</table>\n",
       "</div>"
      ],
      "text/plain": [
       "         Date  PRCP  SNOW  TMAX  TMIN  TAVG  AWND\n",
       "0  2015-01-01   0.0   0.0   8.3  -2.7   1.7   3.7\n",
       "1  2015-01-02   0.0   0.0   9.4   1.7   5.3   1.3\n",
       "2  2015-01-03  12.7   0.0   5.6   1.1   4.0   1.5\n",
       "3  2015-01-05   0.0   0.0  11.1  -1.6   7.8   6.4\n",
       "4  2015-01-06   5.1  61.0   0.0  -4.3  -1.9   2.2"
      ]
     },
     "execution_count": 16,
     "metadata": {},
     "output_type": "execute_result"
    }
   ],
   "source": [
    "weather_2 = pd.read_csv(\"Data/Weather_Clean.csv\")\n",
    "weather_2.head()"
   ]
  },
  {
   "cell_type": "code",
   "execution_count": null,
   "metadata": {},
   "outputs": [],
   "source": []
  }
 ],
 "metadata": {
  "kernelspec": {
   "display_name": "Python 3",
   "language": "python",
   "name": "python3"
  },
  "language_info": {
   "codemirror_mode": {
    "name": "ipython",
    "version": 3
   },
   "file_extension": ".py",
   "mimetype": "text/x-python",
   "name": "python",
   "nbconvert_exporter": "python",
   "pygments_lexer": "ipython3",
   "version": "3.6.0"
  }
 },
 "nbformat": 4,
 "nbformat_minor": 2
}
